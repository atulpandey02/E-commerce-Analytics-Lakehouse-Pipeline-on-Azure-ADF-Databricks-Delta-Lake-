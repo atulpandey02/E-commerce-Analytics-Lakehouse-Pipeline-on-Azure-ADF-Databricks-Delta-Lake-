{
 "cells": [
  {
   "cell_type": "code",
   "execution_count": 0,
   "metadata": {
    "application/vnd.databricks.v1+cell": {
     "cellMetadata": {
      "byteLimit": 2048000,
      "rowLimit": 10000
     },
     "inputWidgets": {},
     "nuid": "4fbdb247-c7aa-4f13-b9c1-16843ad077aa",
     "showTitle": false,
     "tableResultSettingsMap": {},
     "title": ""
    }
   },
   "outputs": [],
   "source": [
    "from pyspark.sql.functions import *\n",
    "from pyspark.sql.types import *\n",
    "from pyspark.sql import SparkSession\n",
    "\n",
    "spark = SparkSession.builder.appName(\"GoldLayerCreation\").getOrCreate()"
   ]
  },
  {
   "cell_type": "code",
   "execution_count": 0,
   "metadata": {
    "application/vnd.databricks.v1+cell": {
     "cellMetadata": {
      "byteLimit": 2048000,
      "rowLimit": 10000
     },
     "inputWidgets": {},
     "nuid": "b31975d1-5eb6-4f17-a09a-a5936f9d3137",
     "showTitle": false,
     "tableResultSettingsMap": {},
     "title": ""
    }
   },
   "outputs": [],
   "source": [
    "# reading the silver delta tables \n",
    "\n",
    "silver_sellers = spark.read.format(\"delta\").load(\"/mnt/delta/tables/silver/sellers\")\n",
    "silver_buyers = spark.read.format(\"delta\").load(\"/mnt/delta/tables/silver/buyers\")\n",
    "silver_users = spark.read.format(\"delta\").load(\"/mnt/delta/tables/silver/users\")\n",
    "silver_countries = spark.read.format(\"delta\").load(\"/mnt/delta/tables/silver/countries\")\n"
   ]
  },
  {
   "cell_type": "code",
   "execution_count": 0,
   "metadata": {
    "application/vnd.databricks.v1+cell": {
     "cellMetadata": {
      "byteLimit": 2048000,
      "rowLimit": 10000
     },
     "inputWidgets": {},
     "nuid": "df430c13-a502-4858-8302-003b5dbb1459",
     "showTitle": false,
     "tableResultSettingsMap": {},
     "title": ""
    }
   },
   "outputs": [],
   "source": [
    "# Perform the join operations\n",
    "comprehensive_user_table = silver_users\\\n",
    "        .join(silver_countries, [\"country\"] , \"outer\")\\\n",
    "        .join(silver_buyers, [\"country\"] , \"outer\")\\\n",
    "        .join(silver_sellers, [\"country\"] , \"outer\")"
   ]
  },
  {
   "cell_type": "code",
   "execution_count": 0,
   "metadata": {
    "application/vnd.databricks.v1+cell": {
     "cellMetadata": {
      "byteLimit": 2048000,
      "rowLimit": 10000
     },
     "inputWidgets": {},
     "nuid": "1f569f36-4ccb-4698-abab-26cab8b1ab49",
     "showTitle": false,
     "tableResultSettingsMap": {},
     "title": ""
    }
   },
   "outputs": [],
   "source": [
    "# Select and alias columns from each dataframe to ensure uniqueness\n",
    "comprehensive_user_table = comprehensive_user_table.select(\n",
    "    silver_users[\"country\"].alias(\"Country\"),\n",
    "    # From silver_users\n",
    "    silver_users[\"productsSold\"].alias(\"Users_productsSold\"),\n",
    "    silver_users[\"productsWished\"].alias(\"Users_productsWished\"),\n",
    "    silver_users[\"account_age_years\"].alias(\"Users_account_age_years\"),\n",
    "    silver_users[\"account_age_group\"].alias(\"Users_account_age_group\"),\n",
    "    silver_users[\"hasanyapp\"].alias(\"Users_hasanyapp\"),\n",
    "    silver_users[\"socialnbfollowers\"].alias(\"Users_socialnbfollowers\"),\n",
    "    silver_users[\"flag_long_title\"].alias(\"Users_flag_long_title\"),\n",
    "    # Continue with other silver_users columns as needed...\n",
    "    \n",
    "    # From silver_countries\n",
    "    silver_countries[\"sellers\"].alias(\"Countries_Sellers\"),\n",
    "    silver_countries[\"topsellers\"].alias(\"Countries_TopSellers\"),\n",
    "    silver_countries[\"femalesellers\"].alias(\"Countries_FemaleSellers\"),\n",
    "    silver_countries[\"malesellers\"].alias(\"Countries_MaleSellers\"),\n",
    "    silver_countries[\"topfemalesellers\"].alias(\"Countries_TopFemaleSellers\"),\n",
    "    silver_countries[\"topmalesellers\"].alias(\"Countries_TopMaleSellers\"),\n",
    "    # Continue with other silver_countries columns as needed...\n",
    "    \n",
    "    # From silver_buyers\n",
    "    silver_buyers[\"buyers\"].alias(\"Buyers_Total\"),\n",
    "    silver_buyers[\"topbuyers\"].alias(\"Buyers_Top\"),\n",
    "    silver_buyers[\"femalebuyers\"].alias(\"Buyers_Female\"),\n",
    "    silver_buyers[\"malebuyers\"].alias(\"Buyers_Male\"),\n",
    "    silver_buyers[\"topfemalebuyers\"].alias(\"Buyers_TopFemale\"),\n",
    "    silver_buyers[\"topmalebuyers\"].alias(\"Buyers_TopMale\"),\n",
    "    # Continue with other silver_buyers columns as needed...\n",
    "    \n",
    "    # From silver_sellers\n",
    "    silver_sellers[\"nbsellers\"].alias(\"Sellers_Total\"),\n",
    "    silver_sellers[\"sex\"].alias(\"Sellers_Sex\"),\n",
    "    silver_sellers[\"meanproductssold\"].alias(\"Sellers_MeanProductsSold\"),\n",
    "    silver_sellers[\"meanproductslisted\"].alias(\"Sellers_MeanProductsListed\"),\n",
    "    # Continue with other silver_sellers columns as needed...\n",
    ")\n"
   ]
  },
  {
   "cell_type": "code",
   "execution_count": 0,
   "metadata": {
    "application/vnd.databricks.v1+cell": {
     "cellMetadata": {
      "byteLimit": 2048000,
      "rowLimit": 10000
     },
     "inputWidgets": {},
     "nuid": "a553b433-e612-4ba0-a5db-2bbf6d483aeb",
     "showTitle": false,
     "tableResultSettingsMap": {},
     "title": ""
    }
   },
   "outputs": [
    {
     "output_type": "stream",
     "name": "stdout",
     "output_type": "stream",
     "text": [
      "+-------+------------------+--------------------+-----------------------+-----------------------+---------------+-----------------------+---------------------+-----------------+--------------------+-----------------------+---------------------+--------------------------+------------------------+------------+----------+-------------+-----------+----------------+--------------+-------------+-----------+------------------------+--------------------------+\n|Country|Users_productsSold|Users_productsWished|Users_account_age_years|Users_account_age_group|Users_hasanyapp|Users_socialnbfollowers|Users_flag_long_title|Countries_Sellers|Countries_TopSellers|Countries_FemaleSellers|Countries_MaleSellers|Countries_TopFemaleSellers|Countries_TopMaleSellers|Buyers_Total|Buyers_Top|Buyers_Female|Buyers_Male|Buyers_TopFemale|Buyers_TopMale|Sellers_Total|Sellers_Sex|Sellers_MeanProductsSold|Sellers_MeanProductsListed|\n+-------+------------------+--------------------+-----------------------+-----------------------+---------------+-----------------------+---------------------+-----------------+--------------------+-----------------------+---------------------+--------------------------+------------------------+------------+----------+-------------+-----------+----------------+--------------+-------------+-----------+------------------------+--------------------------+\n|   Inde|                 0|                   0|                   8.78|            Experienced|          false|                      3|                false|             NULL|                NULL|                   NULL|                 NULL|                      NULL|                    NULL|        NULL|      NULL|         NULL|       NULL|            NULL|          NULL|         NULL|       NULL|                    NULL|                      NULL|\n|   Inde|                 0|                   0|                   8.78|            Experienced|          false|                      3|                false|             NULL|                NULL|                   NULL|                 NULL|                      NULL|                    NULL|        NULL|      NULL|         NULL|       NULL|            NULL|          NULL|         NULL|       NULL|                    NULL|                      NULL|\n|   Inde|                 0|                   0|                   8.78|            Experienced|           true|                      3|                false|             NULL|                NULL|                   NULL|                 NULL|                      NULL|                    NULL|        NULL|      NULL|         NULL|       NULL|            NULL|          NULL|         NULL|       NULL|                    NULL|                      NULL|\n|   Inde|                 0|                   0|                   8.78|            Experienced|          false|                      3|                false|             NULL|                NULL|                   NULL|                 NULL|                      NULL|                    NULL|        NULL|      NULL|         NULL|       NULL|            NULL|          NULL|         NULL|       NULL|                    NULL|                      NULL|\n|   Inde|                 0|                   0|                   8.78|            Experienced|          false|                      3|                false|             NULL|                NULL|                   NULL|                 NULL|                      NULL|                    NULL|        NULL|      NULL|         NULL|       NULL|            NULL|          NULL|         NULL|       NULL|                    NULL|                      NULL|\n|   Inde|                 0|                   9|                   8.78|            Experienced|           true|                      3|                false|             NULL|                NULL|                   NULL|                 NULL|                      NULL|                    NULL|        NULL|      NULL|         NULL|       NULL|            NULL|          NULL|         NULL|       NULL|                    NULL|                      NULL|\n|   Inde|                 0|                   0|                   8.78|            Experienced|           true|                      3|                false|             NULL|                NULL|                   NULL|                 NULL|                      NULL|                    NULL|        NULL|      NULL|         NULL|       NULL|            NULL|          NULL|         NULL|       NULL|                    NULL|                      NULL|\n|   Inde|                 0|                   0|                   8.78|            Experienced|          false|                      3|                false|             NULL|                NULL|                   NULL|                 NULL|                      NULL|                    NULL|        NULL|      NULL|         NULL|       NULL|            NULL|          NULL|         NULL|       NULL|                    NULL|                      NULL|\n|   Inde|                 0|                   0|                   8.78|            Experienced|           true|                      3|                false|             NULL|                NULL|                   NULL|                 NULL|                      NULL|                    NULL|        NULL|      NULL|         NULL|       NULL|            NULL|          NULL|         NULL|       NULL|                    NULL|                      NULL|\n|   Inde|                 0|                   0|                   8.78|            Experienced|           true|                      3|                false|             NULL|                NULL|                   NULL|                 NULL|                      NULL|                    NULL|        NULL|      NULL|         NULL|       NULL|            NULL|          NULL|         NULL|       NULL|                    NULL|                      NULL|\n|   Inde|                 0|                   0|                   8.77|            Experienced|          false|                      3|                false|             NULL|                NULL|                   NULL|                 NULL|                      NULL|                    NULL|        NULL|      NULL|         NULL|       NULL|            NULL|          NULL|         NULL|       NULL|                    NULL|                      NULL|\n|   Inde|                 0|                   0|                   8.77|            Experienced|          false|                      3|                false|             NULL|                NULL|                   NULL|                 NULL|                      NULL|                    NULL|        NULL|      NULL|         NULL|       NULL|            NULL|          NULL|         NULL|       NULL|                    NULL|                      NULL|\n|   Inde|                 0|                   0|                   8.77|            Experienced|           true|                      3|                false|             NULL|                NULL|                   NULL|                 NULL|                      NULL|                    NULL|        NULL|      NULL|         NULL|       NULL|            NULL|          NULL|         NULL|       NULL|                    NULL|                      NULL|\n|   Inde|                 0|                   0|                   8.77|            Experienced|           true|                      3|                false|             NULL|                NULL|                   NULL|                 NULL|                      NULL|                    NULL|        NULL|      NULL|         NULL|       NULL|            NULL|          NULL|         NULL|       NULL|                    NULL|                      NULL|\n|   Inde|                 0|                   0|                   8.77|            Experienced|           true|                      3|                false|             NULL|                NULL|                   NULL|                 NULL|                      NULL|                    NULL|        NULL|      NULL|         NULL|       NULL|            NULL|          NULL|         NULL|       NULL|                    NULL|                      NULL|\n|   Inde|                 0|                   0|                   8.77|            Experienced|           true|                      3|                false|             NULL|                NULL|                   NULL|                 NULL|                      NULL|                    NULL|        NULL|      NULL|         NULL|       NULL|            NULL|          NULL|         NULL|       NULL|                    NULL|                      NULL|\n|   Inde|                 0|                   0|                   8.77|            Experienced|           true|                      3|                false|             NULL|                NULL|                   NULL|                 NULL|                      NULL|                    NULL|        NULL|      NULL|         NULL|       NULL|            NULL|          NULL|         NULL|       NULL|                    NULL|                      NULL|\n|   Inde|                 0|                   0|                   8.77|            Experienced|          false|                      3|                false|             NULL|                NULL|                   NULL|                 NULL|                      NULL|                    NULL|        NULL|      NULL|         NULL|       NULL|            NULL|          NULL|         NULL|       NULL|                    NULL|                      NULL|\n|   Inde|                 0|                   0|                   8.77|            Experienced|          false|                      3|                false|             NULL|                NULL|                   NULL|                 NULL|                      NULL|                    NULL|        NULL|      NULL|         NULL|       NULL|            NULL|          NULL|         NULL|       NULL|                    NULL|                      NULL|\n|   Inde|                 0|                   0|                   8.77|            Experienced|          false|                      3|                false|             NULL|                NULL|                   NULL|                 NULL|                      NULL|                    NULL|        NULL|      NULL|         NULL|       NULL|            NULL|          NULL|         NULL|       NULL|                    NULL|                      NULL|\n+-------+------------------+--------------------+-----------------------+-----------------------+---------------+-----------------------+---------------------+-----------------+--------------------+-----------------------+---------------------+--------------------------+------------------------+------------+----------+-------------+-----------+----------------+--------------+-------------+-----------+------------------------+--------------------------+\nonly showing top 20 rows\n"
     ]
    }
   ],
   "source": [
    "comprehensive_user_table.show()"
   ]
  },
  {
   "cell_type": "code",
   "execution_count": 0,
   "metadata": {
    "application/vnd.databricks.v1+cell": {
     "cellMetadata": {
      "byteLimit": 2048000,
      "rowLimit": 10000
     },
     "inputWidgets": {},
     "nuid": "084fdb57-4407-451a-8522-ec54a827dfff",
     "showTitle": false,
     "tableResultSettingsMap": {},
     "title": ""
    }
   },
   "outputs": [],
   "source": [
    "comprehensive_user_table.write.format(\"delta\").mode(\"overwrite\").save(\"/mnt/delta/tables/gold/ecom_one_big_table\")"
   ]
  },
  {
   "cell_type": "code",
   "execution_count": 0,
   "metadata": {
    "application/vnd.databricks.v1+cell": {
     "cellMetadata": {},
     "inputWidgets": {},
     "nuid": "a2a81756-3e7a-41ce-a05b-4fcd908a4a06",
     "showTitle": false,
     "tableResultSettingsMap": {},
     "title": ""
    }
   },
   "outputs": [],
   "source": []
  }
 ],
 "metadata": {
  "application/vnd.databricks.v1+notebook": {
   "computePreferences": null,
   "dashboards": [],
   "environmentMetadata": {
    "base_environment": "",
    "environment_version": "2"
   },
   "inputWidgetPreferences": null,
   "language": "python",
   "notebookMetadata": {
    "pythonIndentUnit": 4
   },
   "notebookName": "Gold Layer",
   "widgets": {}
  },
  "language_info": {
   "name": "python"
  }
 },
 "nbformat": 4,
 "nbformat_minor": 0
}